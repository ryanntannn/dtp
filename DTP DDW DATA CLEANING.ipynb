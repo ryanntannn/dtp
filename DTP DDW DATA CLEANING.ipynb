{
 "cells": [
  {
   "cell_type": "code",
   "execution_count": 1,
   "metadata": {},
   "outputs": [],
   "source": [
    "import pandas as pd\n",
    "import numpy as np\n",
    "import matplotlib.pyplot as plt\n",
    "import matplotlib.axes as axes\n",
    "import seaborn as sns\n",
    "from IPython.display import display"
   ]
  },
  {
   "cell_type": "code",
   "execution_count": 2,
   "metadata": {},
   "outputs": [],
   "source": [
    "#read all files\n",
    "agro_df = pd.read_csv(\"./Agrofood_co2_emission.csv\")\n",
    "countries_df = pd.read_csv(\"./wikipedia-iso-country-codes.csv\")\n",
    "gdp_df = pd.read_csv('./world_country_gdp_usd.csv')\n",
    "hdi_df = pd.read_csv('./human-development-index.csv')"
   ]
  },
  {
   "cell_type": "code",
   "execution_count": 3,
   "metadata": {},
   "outputs": [],
   "source": [
    "#create country mapping\n",
    "country_name_mapping = {\n",
    "    'Afghanistan': 'Afghanistan',\n",
    "    'Albania': 'Albania',\n",
    "    'Algeria': 'Algeria',\n",
    "    'American Samoa': 'American Samoa',\n",
    "    'Andorra': 'Andorra',\n",
    "    'Angola': 'Angola',\n",
    "    'Anguilla': 'Anguilla',\n",
    "    'Antigua and Barbuda': 'Antigua and Barbuda',\n",
    "    'Argentina': 'Argentina',\n",
    "    'Armenia': 'Armenia',\n",
    "    'Aruba': 'Aruba',\n",
    "    'Australia': 'Australia',\n",
    "    'Austria': 'Austria',\n",
    "    'Azerbaijan': 'Azerbaijan',\n",
    "    'Bahamas': 'Bahamas',\n",
    "    'Bahrain': 'Bahrain',\n",
    "    'Bangladesh': 'Bangladesh',\n",
    "    'Barbados': 'Barbados',\n",
    "    'Belarus': 'Belarus',\n",
    "    'Belgium': 'Belgium',\n",
    "    'Belgium-Luxembourg': 'Luxembourg',\n",
    "    'Belize': 'Belize',\n",
    "    'Benin': 'Benin',\n",
    "    'Bermuda': 'Bermuda',\n",
    "    'Bhutan': 'Bhutan',\n",
    "    'Bolivia (Plurinational State of)': 'Bolivia',\n",
    "    'Bosnia and Herzegovina': 'Bosnia and Herzegovina',\n",
    "    'Botswana': 'Botswana',\n",
    "    'Brazil': 'Brazil',\n",
    "    'British Virgin Islands': 'Virgin Islands, British',\n",
    "    'Brunei Darussalam': 'Brunei Darussalam',\n",
    "    'Bulgaria': 'Bulgaria',\n",
    "    'Burkina Faso': 'Burkina Faso',\n",
    "    'Burundi': 'Burundi',\n",
    "    'Cabo Verde': 'Cape Verde',\n",
    "    'Cambodia': 'Cambodia',\n",
    "    'Cameroon': 'Cameroon',\n",
    "    'Canada': 'Canada',\n",
    "    'Cayman Islands': 'Cayman Islands',\n",
    "    'Central African Republic': 'Central African Republic',\n",
    "    'Chad': 'Chad',\n",
    "    'Channel Islands': 'Jersey',\n",
    "    'Chile': 'Chile',\n",
    "    'China': 'China',\n",
    "    'China, Hong Kong SAR': 'Hong Kong S.A.R., China',\n",
    "    'China, Macao SAR': 'Macao',\n",
    "    'China, mainland': 'China',\n",
    "    'China, Taiwan Province of': 'Taiwan',\n",
    "    'Colombia': 'Colombia',\n",
    "    'Comoros': 'Comoros',\n",
    "    'Congo': 'Congo (Brazzaville)',\n",
    "    'Cook Islands': 'Cook Islands',\n",
    "    'Costa Rica': 'Costa Rica',\n",
    "    'Croatia': 'Croatia',\n",
    "    'Cuba': 'Cuba',\n",
    "    'Cyprus': 'Cyprus',\n",
    "    'Czechia': 'Czech Republic',\n",
    "    'Czechoslovakia': 'Czech Republic',\n",
    "    \"Democratic People's Republic of Korea\": 'Korea, Democratic People\\'s Republic of',\n",
    "    'Democratic Republic of the Congo': 'Congo (Kinshasa)',\n",
    "    'Denmark': 'Denmark',\n",
    "    'Djibouti': 'Djibouti',\n",
    "    'Dominica': 'Dominica',\n",
    "    'Dominican Republic': 'Dominican Republic',\n",
    "    'Ecuador': 'Ecuador',\n",
    "    'Egypt': 'Egypt',\n",
    "    'El Salvador': 'El Salvador',\n",
    "    'Equatorial Guinea': 'Equatorial Guinea',\n",
    "    'Eritrea': 'Eritrea',\n",
    "    'Estonia': 'Estonia',\n",
    "    'Eswatini': 'Swaziland',\n",
    "    'Ethiopia': 'Ethiopia',\n",
    "    'Ethiopia PDR': 'Ethiopia', \n",
    "    'Falkland Islands (Malvinas)': 'Falkland Islands (Malvinas)',\n",
    "    'Faroe Islands': 'Faroe Islands',\n",
    "    'Fiji': 'Fiji',\n",
    "    'Finland': 'Finland',\n",
    "    'France': 'France',\n",
    "    'French Polynesia': 'French Polynesia',\n",
    "    'Gabon': 'Gabon',\n",
    "    'Gambia': 'Gambia',\n",
    "    'Georgia': 'Georgia',\n",
    "    'Germany': 'Germany',\n",
    "    'Ghana': 'Ghana',\n",
    "    'Gibraltar': 'Gibraltar',\n",
    "    'Greece': 'Greece',\n",
    "    'Greenland': 'Greenland',\n",
    "    'Grenada': 'Grenada',\n",
    "    'Guadeloupe': 'Guadeloupe',\n",
    "    'Guam': 'Guam',\n",
    "    'Guatemala': 'Guatemala',\n",
    "    'Guinea': 'Guinea',\n",
    "    'Guinea-Bissau': 'Guinea-Bissau',\n",
    "    'Guyana': 'Guyana',\n",
    "    'Haiti': 'Haiti',\n",
    "    'Holy See': 'Holy See (Vatican City State)',\n",
    "    'Honduras': 'Honduras',\n",
    "    'Hungary': 'Hungary',\n",
    "    'Iceland': 'Iceland',\n",
    "    'India': 'India',\n",
    "    'Indonesia': 'Indonesia',\n",
    "    'Iran (Islamic Republic of)': 'Iran',\n",
    "    'Iraq': 'Iraq',\n",
    "    'Ireland': 'Ireland',\n",
    "    'Isle of Man': 'Isle of Man',\n",
    "    'Israel': 'Israel',\n",
    "    'Italy': 'Italy',\n",
    "    'Jamaica': 'Jamaica',\n",
    "    'Japan': 'Japan',\n",
    "    'Jordan': 'Jordan',\n",
    "    'Kazakhstan': 'Kazakhstan',\n",
    "    'Kenya': 'Kenya',\n",
    "    'Kiribati': 'Kiribati',\n",
    "    'Kuwait': 'Kuwait',\n",
    "    'Kyrgyzstan': 'Kyrgyzstan',\n",
    "    \"Lao People's Democratic Republic\": 'Lao People\\'s Democratic Republic',\n",
    "    'Latvia': 'Latvia',\n",
    "    'Lebanon': 'Lebanon',\n",
    "    'Lesotho': 'Lesotho',\n",
    "    'Liberia': 'Liberia',\n",
    "    'Libya': 'Libyan Arab Jamahiriya',\n",
    "    'Liechtenstein': 'Liechtenstein',\n",
    "    'Lithuania': 'Lithuania',\n",
    "    'Luxembourg': 'Luxembourg',\n",
    "    'Madagascar': 'Madagascar',\n",
    "    'Malawi': 'Malawi',\n",
    "    'Malaysia': 'Malaysia',\n",
    "    'Maldives': 'Maldives',\n",
    "    'Mali': 'Mali',\n",
    "    'Malta': 'Malta',\n",
    "    'Marshall Islands': 'Marshall Islands',\n",
    "    'Martinique': 'Martinique',\n",
    "    'Mauritania': 'Mauritania',\n",
    "    'Mauritius': 'Mauritius',\n",
    "    'Mayotte': 'Mayotte',\n",
    "    'Mexico': 'Mexico',\n",
    "    'Micronesia (Federated States of)': 'Micronesia, Federated States of',\n",
    "    'Monaco': 'Monaco',\n",
    "    'Mongolia': 'Mongolia',\n",
    "    'Montenegro': 'Montenegro',\n",
    "    'Montserrat': 'Montserrat',\n",
    "    'Morocco': 'Morocco',\n",
    "    'Mozambique': 'Mozambique',\n",
    "    'Myanmar': 'Myanmar',\n",
    "    'Namibia': 'Namibia',\n",
    "    'Nauru': 'Nauru',\n",
    "    'Nepal': 'Nepal',\n",
    "    'Netherlands (Kingdom of the)': 'Netherlands',\n",
    "    'Netherlands Antilles (former)': 'Netherlands Antilles',\n",
    "    'New Caledonia': 'New Caledonia',\n",
    "    'New Zealand': 'New Zealand',\n",
    "    'Nicaragua': 'Nicaragua',\n",
    "    'Niger': 'Niger',\n",
    "    'Nigeria': 'Nigeria',\n",
    "    'Niue': 'Niue',\n",
    "    'North Macedonia': 'Macedonia, the former Yugoslav Republic of',\n",
    "    'Northern Mariana Islands': 'Northern Mariana Islands',\n",
    "    'Norway': 'Norway',\n",
    "    'Oman': 'Oman',\n",
    "    'Pakistan': 'Pakistan',\n",
    "    'Palau': 'Palau',\n",
    "    'Palestine': 'Palestinian Territory, Occupied',\n",
    "    'Panama': 'Panama',\n",
    "    'Papua New Guinea': 'Papua New Guinea',\n",
    "    'Paraguay': 'Paraguay',\n",
    "    'Peru': 'Peru',\n",
    "    'Philippines': 'Philippines',\n",
    "    'Poland': 'Poland',\n",
    "    'Portugal': 'Portugal',\n",
    "    'Puerto Rico': 'Puerto Rico',\n",
    "    'Qatar': 'Qatar',\n",
    "    'Republic of Korea': 'South Korea',\n",
    "    'Republic of Moldova': 'Moldova, Republic of',\n",
    "    'Romania': 'Romania',\n",
    "    'Russian Federation': 'Russia',\n",
    "    'Rwanda': 'Rwanda',\n",
    "    'Saint Helena, Ascension and Tristan da Cunha': 'Saint Helena, Ascension and Tristan da Cunha',\n",
    "    'Saint Kitts and Nevis': 'Saint Kitts and Nevis',\n",
    "    'Saint Lucia': 'Saint Lucia',\n",
    "    'Saint Pierre and Miquelon': 'Saint Pierre and Miquelon',\n",
    "    'Saint Vincent and the Grenadines': 'Saint Vincent and the Grenadines',\n",
    "    'Samoa': 'Samoa',\n",
    "    'San Marino': 'San Marino',\n",
    "    'Sao Tome and Principe': 'Sao Tome and Principe',\n",
    "    'Saudi Arabia': 'Saudi Arabia',\n",
    "    'Senegal': 'Senegal',\n",
    "    'Serbia': 'Serbia',\n",
    "    'Serbia and Montenegro': 'Serbia',\n",
    "    'Seychelles': 'Seychelles',\n",
    "    'Sierra Leone': 'Sierra Leone',\n",
    "    'Singapore': 'Singapore',\n",
    "    'Slovakia': 'Slovakia',\n",
    "    'Slovenia': 'Slovenia',\n",
    "    'Solomon Islands': 'Solomon Islands',\n",
    "    'Somalia': 'Somalia',\n",
    "    'South Africa': 'South Africa',\n",
    "    'South Sudan': 'South Sudan',\n",
    "    'Spain': 'Spain',\n",
    "    'Sri Lanka': 'Sri Lanka',\n",
    "    'Sudan': 'Sudan',\n",
    "    'Suriname': 'Suriname',\n",
    "    'Sweden': 'Sweden',\n",
    "    'Switzerland': 'Switzerland',\n",
    "    'Syrian Arab Republic': 'Syria',\n",
    "    'Tajikistan': 'Tajikistan',\n",
    "    'Thailand': 'Thailand',\n",
    "    'Timor-Leste': 'Timor-Leste',\n",
    "    'Togo': 'Togo',\n",
    "    'Tonga': 'Tonga',\n",
    "    'Trinidad and Tobago': 'Trinidad and Tobago',\n",
    "    'Tunisia': 'Tunisia',\n",
    "    'Turkey': 'Türkiye',  \n",
    "    'Turkmenistan': 'Turkmenistan',\n",
    "    'Tuvalu': 'Tuvalu',\n",
    "    'Uganda': 'Uganda',\n",
    "    'Ukraine': 'Ukraine',\n",
    "    'United Arab Emirates': 'United Arab Emirates',\n",
    "    'United Kingdom': 'United Kingdom',\n",
    "    'United Republic of Tanzania': 'Tanzania',\n",
    "    'United States of America': 'United States',\n",
    "    'Uruguay': 'Uruguay',\n",
    "    'Uzbekistan': 'Uzbekistan',\n",
    "    'Vanuatu': 'Vanuatu',\n",
    "    'Venezuela (Bolivarian Republic of)': 'Venezuela',\n",
    "    'Viet Nam': 'Vietnam',\n",
    "    'Yemen': 'Yemen',\n",
    "    'Zambia': 'Zambia',\n",
    "    'Zimbabwe': 'Zimbabwe'\n",
    "}\n"
   ]
  },
  {
   "cell_type": "code",
   "execution_count": 4,
   "metadata": {},
   "outputs": [],
   "source": [
    "#replace countries names in agro df with country mapping names\n",
    "agro_df['Country Name'] = agro_df['Area'].replace(country_name_mapping)"
   ]
  },
  {
   "cell_type": "code",
   "execution_count": 5,
   "metadata": {},
   "outputs": [],
   "source": [
    "#rename columns\n",
    "countries_df.rename(columns={\"English short name lower case\": \"Country Name\",\n",
    "                            \"Alpha-3 code\":\"Country Code\"}, inplace=True)\n",
    "gdp_df.rename(columns={\"year\":\"Year\"}, inplace=True)"
   ]
  },
  {
   "cell_type": "code",
   "execution_count": 6,
   "metadata": {},
   "outputs": [],
   "source": [
    "#create new df of country names and codes\n",
    "countries_df = countries_df[['Country Name', 'Country Code']]"
   ]
  },
  {
   "cell_type": "code",
   "execution_count": 7,
   "metadata": {},
   "outputs": [],
   "source": [
    "countries_df = countries_df.drop_duplicates(subset='Country Name')"
   ]
  },
  {
   "cell_type": "code",
   "execution_count": 8,
   "metadata": {},
   "outputs": [],
   "source": [
    "#merge agro df and countries df to get the country code for each country\n",
    "merged_df = pd.merge(agro_df, countries_df, on='Country Name', how='left')"
   ]
  },
  {
   "cell_type": "code",
   "execution_count": 9,
   "metadata": {},
   "outputs": [
    {
     "data": {
      "text/plain": [
       "Area                                  0\n",
       "Year                                  0\n",
       "Savanna fires                        31\n",
       "Forest fires                         93\n",
       "Crop Residues                      1389\n",
       "Rice Cultivation                      0\n",
       "Drained organic soils (CO2)           0\n",
       "Pesticides Manufacturing              0\n",
       "Food Transport                        0\n",
       "Forestland                          493\n",
       "Net Forest conversion               493\n",
       "Food Household Consumption          473\n",
       "Food Retail                           0\n",
       "On-farm Electricity Use               0\n",
       "Food Packaging                        0\n",
       "Agrifood Systems Waste Disposal       0\n",
       "Food Processing                       0\n",
       "Fertilizers Manufacturing             0\n",
       "IPPU                                743\n",
       "Manure applied to Soils             928\n",
       "Manure left on Pasture                0\n",
       "Manure Management                   928\n",
       "Fires in organic soils                0\n",
       "Fires in humid tropical forests     155\n",
       "On-farm energy use                  956\n",
       "Rural population                      0\n",
       "Urban population                      0\n",
       "Total Population - Male               0\n",
       "Total Population - Female             0\n",
       "total_emission                        0\n",
       "Average Temperature °C                0\n",
       "Country Name                          0\n",
       "Country Code                        191\n",
       "dtype: int64"
      ]
     },
     "execution_count": 9,
     "metadata": {},
     "output_type": "execute_result"
    }
   ],
   "source": [
    "merged_df.isna().sum() #check for missing values after merging"
   ]
  },
  {
   "cell_type": "code",
   "execution_count": 10,
   "metadata": {},
   "outputs": [
    {
     "name": "stdout",
     "output_type": "stream",
     "text": [
      "['Pacific Islands Trust Territory' 'South Sudan' 'Sudan (former)' 'Syria'\n",
      " 'Turks and Caicos Islands'\n",
      " 'United Kingdom of Great Britain and Northern Ireland'\n",
      " 'United States Virgin Islands' 'USSR' 'Wallis and Futuna Islands'\n",
      " 'Yugoslav SFR']\n"
     ]
    }
   ],
   "source": [
    "#check for countries with missing country code\n",
    "missing_country_code = merged_df[merged_df['Country Code'].isna()]\n",
    "missing_country_code_names = missing_country_code['Country Name'].unique()\n",
    "print(missing_country_code_names)"
   ]
  },
  {
   "cell_type": "code",
   "execution_count": 11,
   "metadata": {},
   "outputs": [],
   "source": [
    "#Add country codes for these countries\n",
    "#Pacific Islands Trust Territory - PLW\n",
    "#South Sudan - SSD\n",
    "#Sudan (former) - SDN\n",
    "#Syria - SYR\n",
    "#Syrian Arab Republic - SYR\n",
    "#Turks and Caicos Islands - TCA\n",
    "#United Kingdom of Great Britain and Northern Ireland - GBR\n",
    "#United States Virgin Islands - VIR\n",
    "#USSR - SUN (Former code for the Union of Soviet Socialist Republics, now replaced by individual countries)\n",
    "#Wallis and Futuna Islands - WLF\n",
    "#Yugoslav SFR - YUG\n",
    "\n",
    "country_code = {'Pacific Islands Trust Territory':'PLW',\n",
    "               'South Sudan':'SSD',\n",
    "               'Sudan (former)':'SDN',\n",
    "               'Syria':'SYR',\n",
    "               'Syrian Arab Republic':'SYR',\n",
    "               'Turks and Caicos Islands':'TCA',\n",
    "               'United Kingdom of Great Britain and Northern Ireland':'GBR',\n",
    "               'United States Virgin Islands':'VIR',\n",
    "               'USSR':'SUN',\n",
    "               'Wallis and Futuna Islands':'WLF',\n",
    "               'Yugoslav SFR':'YUG'}"
   ]
  },
  {
   "cell_type": "code",
   "execution_count": 12,
   "metadata": {},
   "outputs": [],
   "source": [
    "#add country codes for countries with missing country codes\n",
    "merged_df.loc[merged_df['Country Code'].isna(), 'Country Code'] = (merged_df.loc[merged_df['Country Code'].isna(), 'Country Name'].map(country_code))"
   ]
  },
  {
   "cell_type": "code",
   "execution_count": 13,
   "metadata": {},
   "outputs": [
    {
     "data": {
      "text/plain": [
       "Area                                  0\n",
       "Year                                  0\n",
       "Savanna fires                        31\n",
       "Forest fires                         93\n",
       "Crop Residues                      1389\n",
       "Rice Cultivation                      0\n",
       "Drained organic soils (CO2)           0\n",
       "Pesticides Manufacturing              0\n",
       "Food Transport                        0\n",
       "Forestland                          493\n",
       "Net Forest conversion               493\n",
       "Food Household Consumption          473\n",
       "Food Retail                           0\n",
       "On-farm Electricity Use               0\n",
       "Food Packaging                        0\n",
       "Agrifood Systems Waste Disposal       0\n",
       "Food Processing                       0\n",
       "Fertilizers Manufacturing             0\n",
       "IPPU                                743\n",
       "Manure applied to Soils             928\n",
       "Manure left on Pasture                0\n",
       "Manure Management                   928\n",
       "Fires in organic soils                0\n",
       "Fires in humid tropical forests     155\n",
       "On-farm energy use                  956\n",
       "Rural population                      0\n",
       "Urban population                      0\n",
       "Total Population - Male               0\n",
       "Total Population - Female             0\n",
       "total_emission                        0\n",
       "Average Temperature °C                0\n",
       "Country Name                          0\n",
       "Country Code                          0\n",
       "dtype: int64"
      ]
     },
     "execution_count": 13,
     "metadata": {},
     "output_type": "execute_result"
    }
   ],
   "source": [
    "merged_df.isna().sum()"
   ]
  },
  {
   "cell_type": "code",
   "execution_count": 14,
   "metadata": {},
   "outputs": [],
   "source": [
    "gdp_df.drop(columns='Country Name', inplace=True)"
   ]
  },
  {
   "cell_type": "code",
   "execution_count": 15,
   "metadata": {},
   "outputs": [],
   "source": [
    "merged_df = pd.merge(merged_df, gdp_df, on=['Country Code','Year'], how='left')"
   ]
  },
  {
   "cell_type": "code",
   "execution_count": 16,
   "metadata": {},
   "outputs": [
    {
     "data": {
      "text/plain": [
       "Area                                  0\n",
       "Year                                  0\n",
       "Savanna fires                        31\n",
       "Forest fires                         93\n",
       "Crop Residues                      1389\n",
       "Rice Cultivation                      0\n",
       "Drained organic soils (CO2)           0\n",
       "Pesticides Manufacturing              0\n",
       "Food Transport                        0\n",
       "Forestland                          493\n",
       "Net Forest conversion               493\n",
       "Food Household Consumption          473\n",
       "Food Retail                           0\n",
       "On-farm Electricity Use               0\n",
       "Food Packaging                        0\n",
       "Agrifood Systems Waste Disposal       0\n",
       "Food Processing                       0\n",
       "Fertilizers Manufacturing             0\n",
       "IPPU                                743\n",
       "Manure applied to Soils             928\n",
       "Manure left on Pasture                0\n",
       "Manure Management                   928\n",
       "Fires in organic soils                0\n",
       "Fires in humid tropical forests     155\n",
       "On-farm energy use                  956\n",
       "Rural population                      0\n",
       "Urban population                      0\n",
       "Total Population - Male               0\n",
       "Total Population - Female             0\n",
       "total_emission                        0\n",
       "Average Temperature °C                0\n",
       "Country Name                          0\n",
       "Country Code                          0\n",
       "GDP_USD                             884\n",
       "GDP_per_capita_USD                  887\n",
       "dtype: int64"
      ]
     },
     "execution_count": 16,
     "metadata": {},
     "output_type": "execute_result"
    }
   ],
   "source": [
    "merged_df.isna().sum()"
   ]
  },
  {
   "cell_type": "code",
   "execution_count": 17,
   "metadata": {},
   "outputs": [],
   "source": [
    "#calculate total population by summing male and female populations\n",
    "merged_df['Total Population'] = merged_df['Total Population - Male'] + merged_df['Total Population - Female']"
   ]
  },
  {
   "cell_type": "code",
   "execution_count": 18,
   "metadata": {},
   "outputs": [],
   "source": [
    "merged_df['GDP_USD'] = merged_df.groupby('Country Code')['GDP_USD'].transform(lambda x: x.fillna(x.mean()))\n",
    "merged_df['GDP_per_capita_USD'] = merged_df.apply(lambda row: row['GDP_USD'] / row['Total Population'] if pd.isna(row['GDP_per_capita_USD']) and row['Total Population'] > 0 else row['GDP_per_capita_USD'],axis=1)"
   ]
  },
  {
   "cell_type": "code",
   "execution_count": 19,
   "metadata": {},
   "outputs": [
    {
     "data": {
      "text/plain": [
       "Area                                  0\n",
       "Year                                  0\n",
       "Savanna fires                        31\n",
       "Forest fires                         93\n",
       "Crop Residues                      1389\n",
       "Rice Cultivation                      0\n",
       "Drained organic soils (CO2)           0\n",
       "Pesticides Manufacturing              0\n",
       "Food Transport                        0\n",
       "Forestland                          493\n",
       "Net Forest conversion               493\n",
       "Food Household Consumption          473\n",
       "Food Retail                           0\n",
       "On-farm Electricity Use               0\n",
       "Food Packaging                        0\n",
       "Agrifood Systems Waste Disposal       0\n",
       "Food Processing                       0\n",
       "Fertilizers Manufacturing             0\n",
       "IPPU                                743\n",
       "Manure applied to Soils             928\n",
       "Manure left on Pasture                0\n",
       "Manure Management                   928\n",
       "Fires in organic soils                0\n",
       "Fires in humid tropical forests     155\n",
       "On-farm energy use                  956\n",
       "Rural population                      0\n",
       "Urban population                      0\n",
       "Total Population - Male               0\n",
       "Total Population - Female             0\n",
       "total_emission                        0\n",
       "Average Temperature °C                0\n",
       "Country Name                          0\n",
       "Country Code                          0\n",
       "GDP_USD                             614\n",
       "GDP_per_capita_USD                  614\n",
       "Total Population                      0\n",
       "dtype: int64"
      ]
     },
     "execution_count": 19,
     "metadata": {},
     "output_type": "execute_result"
    }
   ],
   "source": [
    "merged_df.isna().sum()"
   ]
  },
  {
   "cell_type": "code",
   "execution_count": 20,
   "metadata": {},
   "outputs": [
    {
     "data": {
      "text/plain": [
       "Entity                             0\n",
       "Code                              28\n",
       "Year                               0\n",
       "Human Development Index (UNDP)     0\n",
       "dtype: int64"
      ]
     },
     "execution_count": 20,
     "metadata": {},
     "output_type": "execute_result"
    }
   ],
   "source": [
    "hdi_df.isna().sum()"
   ]
  },
  {
   "cell_type": "code",
   "execution_count": 21,
   "metadata": {},
   "outputs": [
    {
     "name": "stdout",
     "output_type": "stream",
     "text": [
      "['Korea']\n"
     ]
    }
   ],
   "source": [
    "#check for countries with missing code\n",
    "missing_country_code = hdi_df[hdi_df['Code'].isna()]\n",
    "missing_country_code_names = missing_country_code['Entity'].unique()\n",
    "print(missing_country_code_names)"
   ]
  },
  {
   "cell_type": "code",
   "execution_count": 22,
   "metadata": {},
   "outputs": [
    {
     "data": {
      "text/plain": [
       "Entity                            0\n",
       "Code                              0\n",
       "Year                              0\n",
       "Human Development Index (UNDP)    0\n",
       "dtype: int64"
      ]
     },
     "execution_count": 22,
     "metadata": {},
     "output_type": "execute_result"
    }
   ],
   "source": [
    "#fill in missing country code\n",
    "hdi_df.loc[hdi_df['Entity'] == 'Korea', 'Code'] = 'KOR'\n",
    "hdi_df.isna().sum()"
   ]
  },
  {
   "cell_type": "code",
   "execution_count": 23,
   "metadata": {},
   "outputs": [],
   "source": [
    "hdi_df.drop(columns='Entity', inplace=True)\n",
    "hdi_df.rename(columns={\"Code\":\"Country Code\"}, inplace=True)\n",
    "merged_df = pd.merge(merged_df, hdi_df, on=['Country Code','Year'], how='left')"
   ]
  },
  {
   "cell_type": "code",
   "execution_count": 24,
   "metadata": {},
   "outputs": [],
   "source": [
    "merged_df = merged_df.sort_values(by=['Country Code', 'Year'])\n",
    "merged_df['Human Development Index (UNDP)'] = merged_df.groupby('Country Code')['Human Development Index (UNDP)'].fillna(method='ffill')\n",
    "merged_df['Human Development Index (UNDP)'] = merged_df.groupby('Country Code')['Human Development Index (UNDP)'].fillna(method='bfill')"
   ]
  },
  {
   "cell_type": "code",
   "execution_count": 25,
   "metadata": {},
   "outputs": [
    {
     "data": {
      "text/plain": [
       "Area                                  0\n",
       "Year                                  0\n",
       "Savanna fires                        31\n",
       "Forest fires                         93\n",
       "Crop Residues                      1389\n",
       "Rice Cultivation                      0\n",
       "Drained organic soils (CO2)           0\n",
       "Pesticides Manufacturing              0\n",
       "Food Transport                        0\n",
       "Forestland                          493\n",
       "Net Forest conversion               493\n",
       "Food Household Consumption          473\n",
       "Food Retail                           0\n",
       "On-farm Electricity Use               0\n",
       "Food Packaging                        0\n",
       "Agrifood Systems Waste Disposal       0\n",
       "Food Processing                       0\n",
       "Fertilizers Manufacturing             0\n",
       "IPPU                                743\n",
       "Manure applied to Soils             928\n",
       "Manure left on Pasture                0\n",
       "Manure Management                   928\n",
       "Fires in organic soils                0\n",
       "Fires in humid tropical forests     155\n",
       "On-farm energy use                  956\n",
       "Rural population                      0\n",
       "Urban population                      0\n",
       "Total Population - Male               0\n",
       "Total Population - Female             0\n",
       "total_emission                        0\n",
       "Average Temperature °C                0\n",
       "Country Name                          0\n",
       "Country Code                          0\n",
       "GDP_USD                             614\n",
       "GDP_per_capita_USD                  614\n",
       "Total Population                      0\n",
       "Human Development Index (UNDP)     1233\n",
       "dtype: int64"
      ]
     },
     "execution_count": 25,
     "metadata": {},
     "output_type": "execute_result"
    }
   ],
   "source": [
    "merged_df.isna().sum()"
   ]
  },
  {
   "cell_type": "code",
   "execution_count": 26,
   "metadata": {},
   "outputs": [
    {
     "name": "stdout",
     "output_type": "stream",
     "text": [
      "['Aruba' 'Anguilla' 'Netherlands Antilles' 'American Samoa' 'Bermuda'\n",
      " 'Cook Islands' 'Cayman Islands' 'Western Sahara'\n",
      " 'Falkland Islands (Malvinas)' 'Faroe Islands' 'Gibraltar' 'Guadeloupe'\n",
      " 'Greenland' 'Guam' 'Isle of Man' 'Jersey' 'Macao' 'Monaco'\n",
      " 'Northern Mariana Islands' 'Montserrat' 'Martinique' 'Mayotte'\n",
      " 'New Caledonia' 'Niue' 'Nauru' 'Puerto Rico'\n",
      " \"Korea, Democratic People's Republic of\" 'French Polynesia'\n",
      " 'Saint Helena, Ascension and Tristan da Cunha' 'San Marino' 'Somalia'\n",
      " 'Saint Pierre and Miquelon' 'USSR' 'Turks and Caicos Islands' 'Tokelau'\n",
      " 'Tuvalu' 'Taiwan' 'Holy See (Vatican City State)'\n",
      " 'Virgin Islands, British' 'United States Virgin Islands'\n",
      " 'Wallis and Futuna Islands' 'Yugoslav SFR']\n"
     ]
    }
   ],
   "source": [
    "missing_hdi = merged_df[merged_df['Human Development Index (UNDP)'].isna()]\n",
    "countries_with_missing_hdi = missing_hdi['Country Name'].unique()\n",
    "print(countries_with_missing_hdi)"
   ]
  },
  {
   "cell_type": "code",
   "execution_count": 27,
   "metadata": {},
   "outputs": [],
   "source": [
    "#map territories to parent country codes\n",
    "territory_parent_mapping = {\n",
    "    'Aruba': 'NLD',  \n",
    "    'Curacao': 'NLD', \n",
    "    'Bonaire': 'NLD', \n",
    "    'Sint Eustatius': 'NLD', \n",
    "    'Saba': 'NLD',\n",
    "    'Anguilla': 'GBR',\n",
    "    'British Virgin Islands': 'GBR',\n",
    "    'Cayman Islands': 'GBR',\n",
    "    'Falkland Islands (Malvinas)': 'GBR',\n",
    "    'Gibraltar': 'GBR', \n",
    "    'Guernsey': 'GBR',\n",
    "    'Isle of Man': 'GBR', \n",
    "    'Jersey': 'GBR',\n",
    "    'Montserrat': 'GBR', \n",
    "    'Saint Helena': 'GBR',\n",
    "    'Ascension and Tristan da Cunha': 'GBR',\n",
    "    'Turks and Caicos Islands': 'GBR',\n",
    "    'United States Virgin Islands': 'USA',\n",
    "    'Puerto Rico': 'USA',\n",
    "    'Greenland': 'DNK',\n",
    "    'New Caledonia': 'FRA',\n",
    "    'French Polynesia': 'FRA',\n",
    "    'Wallis and Futuna Islands': 'FRA',\n",
    "    'Western Sahara': 'MAR',\n",
    "}\n",
    "\n",
    "parent_country_hdi = (merged_df[['Country Code', 'Human Development Index (UNDP)']].dropna(subset=['Human Development Index (UNDP)']).drop_duplicates(subset=['Country Code']).set_index('Country Code')['Human Development Index (UNDP)'])\n",
    "\n",
    "#fill missing HDI values using parent's country HDI\n",
    "def fill_missing_hdi(row):\n",
    "    if pd.isna(row['Human Development Index (UNDP)']):\n",
    "        parent_country_code = territory_parent_mapping.get(row['Country Name'])\n",
    "        if parent_country_code:\n",
    "            return parent_country_hdi.get(parent_country_code, row['Human Development Index (UNDP)'])\n",
    "    return row['Human Development Index (UNDP)']\n",
    "\n",
    "merged_df['Human Development Index (UNDP)'] = merged_df.apply(fill_missing_hdi, axis=1)\n"
   ]
  },
  {
   "cell_type": "code",
   "execution_count": 28,
   "metadata": {},
   "outputs": [
    {
     "name": "stdout",
     "output_type": "stream",
     "text": [
      "['Netherlands Antilles' 'American Samoa' 'Bermuda' 'Cook Islands'\n",
      " 'Faroe Islands' 'Guadeloupe' 'Guam' 'Macao' 'Monaco'\n",
      " 'Northern Mariana Islands' 'Martinique' 'Mayotte' 'Niue' 'Nauru'\n",
      " \"Korea, Democratic People's Republic of\"\n",
      " 'Saint Helena, Ascension and Tristan da Cunha' 'San Marino' 'Somalia'\n",
      " 'Saint Pierre and Miquelon' 'USSR' 'Tokelau' 'Tuvalu' 'Taiwan'\n",
      " 'Holy See (Vatican City State)' 'Virgin Islands, British' 'Yugoslav SFR']\n"
     ]
    }
   ],
   "source": [
    "missing_hdi = merged_df[merged_df['Human Development Index (UNDP)'].isna()]\n",
    "countries_with_missing_hdi = missing_hdi['Country Name'].unique()\n",
    "print(countries_with_missing_hdi)"
   ]
  },
  {
   "cell_type": "code",
   "execution_count": 29,
   "metadata": {},
   "outputs": [
    {
     "data": {
      "text/html": [
       "<div>\n",
       "<style scoped>\n",
       "    .dataframe tbody tr th:only-of-type {\n",
       "        vertical-align: middle;\n",
       "    }\n",
       "\n",
       "    .dataframe tbody tr th {\n",
       "        vertical-align: top;\n",
       "    }\n",
       "\n",
       "    .dataframe thead th {\n",
       "        text-align: right;\n",
       "    }\n",
       "</style>\n",
       "<table border=\"1\" class=\"dataframe\">\n",
       "  <thead>\n",
       "    <tr style=\"text-align: right;\">\n",
       "      <th></th>\n",
       "      <th>GDP_per_capita_USD</th>\n",
       "      <th>Human Development Index (UNDP)</th>\n",
       "    </tr>\n",
       "  </thead>\n",
       "  <tbody>\n",
       "    <tr>\n",
       "      <th>count</th>\n",
       "      <td>6379.000000</td>\n",
       "      <td>6256.000000</td>\n",
       "    </tr>\n",
       "    <tr>\n",
       "      <th>mean</th>\n",
       "      <td>13243.839283</td>\n",
       "      <td>0.665023</td>\n",
       "    </tr>\n",
       "    <tr>\n",
       "      <th>std</th>\n",
       "      <td>21856.675542</td>\n",
       "      <td>0.163492</td>\n",
       "    </tr>\n",
       "    <tr>\n",
       "      <th>min</th>\n",
       "      <td>22.795345</td>\n",
       "      <td>0.199000</td>\n",
       "    </tr>\n",
       "    <tr>\n",
       "      <th>25%</th>\n",
       "      <td>1088.271775</td>\n",
       "      <td>0.544000</td>\n",
       "    </tr>\n",
       "    <tr>\n",
       "      <th>50%</th>\n",
       "      <td>4022.177798</td>\n",
       "      <td>0.697000</td>\n",
       "    </tr>\n",
       "    <tr>\n",
       "      <th>75%</th>\n",
       "      <td>16138.978175</td>\n",
       "      <td>0.781000</td>\n",
       "    </tr>\n",
       "    <tr>\n",
       "      <th>max</th>\n",
       "      <td>189487.147100</td>\n",
       "      <td>0.953000</td>\n",
       "    </tr>\n",
       "  </tbody>\n",
       "</table>\n",
       "</div>"
      ],
      "text/plain": [
       "       GDP_per_capita_USD  Human Development Index (UNDP)\n",
       "count         6379.000000                     6256.000000\n",
       "mean         13243.839283                        0.665023\n",
       "std          21856.675542                        0.163492\n",
       "min             22.795345                        0.199000\n",
       "25%           1088.271775                        0.544000\n",
       "50%           4022.177798                        0.697000\n",
       "75%          16138.978175                        0.781000\n",
       "max         189487.147100                        0.953000"
      ]
     },
     "execution_count": 29,
     "metadata": {},
     "output_type": "execute_result"
    }
   ],
   "source": [
    "merged_df[['GDP_per_capita_USD', 'Human Development Index (UNDP)']].describe()"
   ]
  },
  {
   "cell_type": "markdown",
   "metadata": {},
   "source": [
    "The HDI is based on fixed cutoff points, which are:\n",
    "\n",
    "- Low human development: HDI of less than 0.550\n",
    "\n",
    "- Medium human development: HDI of 0.550–0.699\n",
    "\n",
    "- High human development: HDI of 0.700–0.799\n",
    "\n",
    "- Very high human development: HDI of 0.800 or greater \n",
    "\n",
    "Source: https://hdr.undp.org/sites/default/files/hdr_2016_statistical_annex.pdf"
   ]
  },
  {
   "cell_type": "code",
   "execution_count": 30,
   "metadata": {},
   "outputs": [],
   "source": [
    "#bin countries to underdeveloped/developing/developed using the countries GDP and HDI\n",
    "def categorise_country(row):\n",
    "    if row['GDP_per_capita_USD'] < 2000 and row['Human Development Index (UNDP)'] < 0.55:\n",
    "        return 'Underdeveloped'\n",
    "    elif 2000 <= row['GDP_per_capita_USD'] < 12000 and 0.55 <= row['Human Development Index (UNDP)'] < 0.75:\n",
    "        return 'Developing'\n",
    "    elif row['GDP_per_capita_USD'] >= 12000 and row['Human Development Index (UNDP)'] >= 0.75:\n",
    "        return 'Developed'\n",
    "    elif row['GDP_per_capita_USD'] >= 0 and row['Human Development Index (UNDP)'] < 0.55:\n",
    "        return 'Underdeveloped'\n",
    "    elif row['GDP_per_capita_USD'] >= 0 and row['Human Development Index (UNDP)'] >= 0.55:\n",
    "        return 'Developing'\n",
    "    else:\n",
    "        return 'Unknown'\n",
    "    \n",
    "merged_df['Category'] = merged_df.apply(categorise_country, axis=1)"
   ]
  },
  {
   "cell_type": "markdown",
   "metadata": {},
   "source": [
    "## Total emissions over the years "
   ]
  },
  {
   "cell_type": "markdown",
   "metadata": {},
   "source": [
    "The plot shows the total emissions have changed for the different categories over the years. We can see that the total emissions for developing countries are growing at a much faster rate compared to the other categories. "
   ]
  },
  {
   "cell_type": "code",
   "execution_count": 37,
   "metadata": {},
   "outputs": [
    {
     "data": {
      "image/png": "[encoded data removed]",
      "text/plain": [
       "<Figure size 432x288 with 1 Axes>"
      ]
     },
     "metadata": {
      "needs_background": "light"
     },
     "output_type": "display_data"
    }
   ],
   "source": [
    "sns.lineplot(data=merged_df, x=\"Year\", y=\"total_emission\", hue=\"Category\")\n",
    "plt.title('Total Emissions Over the Years')\n",
    "plt.ylabel('Total Emissions')\n",
    "plt.show()"
   ]
  },
  {
   "cell_type": "markdown",
   "metadata": {},
   "source": [
    "## Top 10 Developing Countries with the Highest Urban Population (2020)\n",
    "The bar plot shows the top 10 developing countries with the highest urban population as of 2020, indicating rapid urbanisation in these regions."
   ]
  },
  {
   "cell_type": "code",
   "execution_count": null,
   "metadata": {},
   "outputs": [],
   "source": [
    "merged_df['Urban population in Millions'] = merged_df['Urban population'] / 1000000\n",
    "top_10_developing = (merged_df[(merged_df['Category'] == 'Developing') & (merged_df['Year'] == 2020)].sort_values(by='Urban population', ascending=False).drop_duplicates(subset=['Country Name']).iloc[:10]) \n",
    "plt.figure(figsize=(12, 8))\n",
    "sns.barplot(data=top_10_developing, x='Urban population in Millions', y='Country Name')\n",
    "plt.title('Top 10 Developing Countries with the Highest Urban Population as of 2020')\n",
    "plt.xlabel('Urban Population in Millions')\n",
    "plt.show()"
   ]
  },
  {
   "cell_type": "code",
   "execution_count": null,
   "metadata": {},
   "outputs": [],
   "source": [
    "top_10_developing['Urban population in Millions'] = top_10_developing['Urban population in Millions'].apply(lambda x: f'{x:.1f}M')\n",
    "top_10_developing[['Country Name', 'Year', 'Urban population in Millions']]"
   ]
  },
  {
   "cell_type": "code",
   "execution_count": 38,
   "metadata": {},
   "outputs": [],
   "source": [
    "merged_df.to_csv('merged.csv', index=False)  "
   ]
  }
 ],
 "metadata": {
  "kernelspec": {
   "display_name": "Python 3",
   "language": "python",
   "name": "python3"
  },
  "language_info": {
   "codemirror_mode": {
    "name": "ipython",
    "version": 3
   },
   "file_extension": ".py",
   "mimetype": "text/x-python",
   "name": "python",
   "nbconvert_exporter": "python",
   "pygments_lexer": "ipython3",
   "version": "3.8.3"
  }
 },
 "nbformat": 4,
 "nbformat_minor": 4
}
